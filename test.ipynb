{
 "cells": [
  {
   "cell_type": "code",
   "execution_count": 1,
   "metadata": {},
   "outputs": [],
   "source": [
    "import pandas as pd\n",
    "from fastai.text.all import *"
   ]
  },
  {
   "cell_type": "code",
   "execution_count": 2,
   "metadata": {},
   "outputs": [],
   "source": [
    "learn = load_learner('model.pkl')"
   ]
  },
  {
   "cell_type": "code",
   "execution_count": 3,
   "metadata": {},
   "outputs": [
    {
     "data": {
      "text/html": [
       "<div>\n",
       "<style scoped>\n",
       "    .dataframe tbody tr th:only-of-type {\n",
       "        vertical-align: middle;\n",
       "    }\n",
       "\n",
       "    .dataframe tbody tr th {\n",
       "        vertical-align: top;\n",
       "    }\n",
       "\n",
       "    .dataframe thead th {\n",
       "        text-align: right;\n",
       "    }\n",
       "</style>\n",
       "<table border=\"1\" class=\"dataframe\">\n",
       "  <thead>\n",
       "    <tr style=\"text-align: right;\">\n",
       "      <th></th>\n",
       "      <th>type</th>\n",
       "      <th>content</th>\n",
       "    </tr>\n",
       "  </thead>\n",
       "  <tbody>\n",
       "    <tr>\n",
       "      <th>0</th>\n",
       "      <td>fake</td>\n",
       "      <td>http://beforeitsnews.com/space/2016/11/pluto-has-a-subsurface-antifreeze-ocean-2503540.html | Pluto Has a Subsurface ‘Antifreeze’ Ocean | Universe Today | Pluto Has a Subsurface ‘Antifreeze’ Ocean\\n\\nHeadline: Bitcoin &amp; Blockchain Searches Exceed Trump! Blockchain Stocks Are Next!\\n\\nThe evidence keeps growing for a large subsurface ocean at Pluto, which also provides clues how the iconic ‘heart’ of Pluto was formed.\\n\\nWe reported in early October that thermal models of Pluto’s interior and tectonic evidence suggest an ocean may exist beneath Pluto’s heart-shaped Sputnik Planitia. Now, ne...</td>\n",
       "    </tr>\n",
       "    <tr>\n",
       "      <th>1</th>\n",
       "      <td>fake</td>\n",
       "      <td>http://beforeitsnews.com/space/2016/11/new-theory-of-gravity-does-away-with-need-for-dark-matter-2503546.html | New Theory of Gravity Does Away With Need for Dark Matter | Universe Today | New Theory of Gravity Does Away With Need for Dark Matter\\n\\nHeadline: Bitcoin &amp; Blockchain Searches Exceed Trump! Blockchain Stocks Are Next!\\n\\n\\n\\nErik Verlinde explains his new view of gravity\\n\\nLet’s be honest. Dark matter’s a pain in the butt. Astronomers have gone to great lengths to explain why is must exist and exist in huge quantities, yet it remains hidden. Unknown. Emitting no visible energy...</td>\n",
       "    </tr>\n",
       "    <tr>\n",
       "      <th>2</th>\n",
       "      <td>fake</td>\n",
       "      <td>http://beforeitsnews.com/space/2016/11/weekly-space-hangout-november-18-2016-dr-jason-wright-and-tabbys-star-2503598.html | Weekly Space Hangout – November 18, 2016: Dr. Jason Wright and Tabby’s Star | Universe Today | Weekly Space Hangout – November 18, 2016: Dr. Jason Wright and Tabby’s Star\\n\\n% of readers think this story is Fact. Add your two cents.\\n\\nHeadline: Bitcoin &amp; Blockchain Searches Exceed Trump! Blockchain Stocks Are Next!\\n\\nHost: Fraser Cain (@fcain)\\n\\nSpecial Guest:\\n\\nDr. Jason Wright is Professor in Penn State University’s Department of Astronomy and Astrophysics. Jaso...</td>\n",
       "    </tr>\n",
       "    <tr>\n",
       "      <th>3</th>\n",
       "      <td>political</td>\n",
       "      <td>http://www.washingtonexaminer.com/susan-collins-hints-trumps-backing-could-get-obamacare-bills-through-house/article/2642535 | Susan Collins hints Trump's backing could get Obamacare bills through House | Robert King | Sen. Susan Collins hinted Monday that backing from President Trump would help get two Obamacare stabilization bills passed in the House.\\n\\nThe Maine Republican said she received an “ironclad commitment” from Senate Majority Leader Mitch McConnell, R-Ky., and President Trump that the two bills would become law by the end of the year. Missing from that statement is a commitme...</td>\n",
       "    </tr>\n",
       "    <tr>\n",
       "      <th>4</th>\n",
       "      <td>political</td>\n",
       "      <td>http://www.washingtonexaminer.com/trent-franks-resigns-immediately-from-congress-cites-wifes-hospitalization-after-surrogacy-revelations/article/2642995 | Trent Franks resigns immediately from Congress, cites wife's hospitalization after surrogacy revelations | Al Weaver | Rep. Trent Franks, R-Ariz., announced Friday that he is resigning from Congress effective immediately instead of waiting until the end of January.\\n\\nFranks said Thursday he would leave next month after it emerged that he discussed surrogate parenthood with two female staffers — some reports said he asked them directly t...</td>\n",
       "    </tr>\n",
       "  </tbody>\n",
       "</table>\n",
       "</div>"
      ],
      "text/plain": [
       "        type  \\\n",
       "0       fake   \n",
       "1       fake   \n",
       "2       fake   \n",
       "3  political   \n",
       "4  political   \n",
       "\n",
       "                                                                                                                                                                                                                                                                                                                                                                                                                                                                                                                                                                                                                   content  \n",
       "0  http://beforeitsnews.com/space/2016/11/pluto-has-a-subsurface-antifreeze-ocean-2503540.html | Pluto Has a Subsurface ‘Antifreeze’ Ocean | Universe Today | Pluto Has a Subsurface ‘Antifreeze’ Ocean\\n\\nHeadline: Bitcoin & Blockchain Searches Exceed Trump! Blockchain Stocks Are Next!\\n\\nThe evidence keeps growing for a large subsurface ocean at Pluto, which also provides clues how the iconic ‘heart’ of Pluto was formed.\\n\\nWe reported in early October that thermal models of Pluto’s interior and tectonic evidence suggest an ocean may exist beneath Pluto’s heart-shaped Sputnik Planitia. Now, ne...  \n",
       "1  http://beforeitsnews.com/space/2016/11/new-theory-of-gravity-does-away-with-need-for-dark-matter-2503546.html | New Theory of Gravity Does Away With Need for Dark Matter | Universe Today | New Theory of Gravity Does Away With Need for Dark Matter\\n\\nHeadline: Bitcoin & Blockchain Searches Exceed Trump! Blockchain Stocks Are Next!\\n\\n\\n\\nErik Verlinde explains his new view of gravity\\n\\nLet’s be honest. Dark matter’s a pain in the butt. Astronomers have gone to great lengths to explain why is must exist and exist in huge quantities, yet it remains hidden. Unknown. Emitting no visible energy...  \n",
       "2  http://beforeitsnews.com/space/2016/11/weekly-space-hangout-november-18-2016-dr-jason-wright-and-tabbys-star-2503598.html | Weekly Space Hangout – November 18, 2016: Dr. Jason Wright and Tabby’s Star | Universe Today | Weekly Space Hangout – November 18, 2016: Dr. Jason Wright and Tabby’s Star\\n\\n% of readers think this story is Fact. Add your two cents.\\n\\nHeadline: Bitcoin & Blockchain Searches Exceed Trump! Blockchain Stocks Are Next!\\n\\nHost: Fraser Cain (@fcain)\\n\\nSpecial Guest:\\n\\nDr. Jason Wright is Professor in Penn State University’s Department of Astronomy and Astrophysics. Jaso...  \n",
       "3  http://www.washingtonexaminer.com/susan-collins-hints-trumps-backing-could-get-obamacare-bills-through-house/article/2642535 | Susan Collins hints Trump's backing could get Obamacare bills through House | Robert King | Sen. Susan Collins hinted Monday that backing from President Trump would help get two Obamacare stabilization bills passed in the House.\\n\\nThe Maine Republican said she received an “ironclad commitment” from Senate Majority Leader Mitch McConnell, R-Ky., and President Trump that the two bills would become law by the end of the year. Missing from that statement is a commitme...  \n",
       "4  http://www.washingtonexaminer.com/trent-franks-resigns-immediately-from-congress-cites-wifes-hospitalization-after-surrogacy-revelations/article/2642995 | Trent Franks resigns immediately from Congress, cites wife's hospitalization after surrogacy revelations | Al Weaver | Rep. Trent Franks, R-Ariz., announced Friday that he is resigning from Congress effective immediately instead of waiting until the end of January.\\n\\nFranks said Thursday he would leave next month after it emerged that he discussed surrogate parenthood with two female staffers — some reports said he asked them directly t...  "
      ]
     },
     "execution_count": 3,
     "metadata": {},
     "output_type": "execute_result"
    }
   ],
   "source": [
    "df = pd.read_csv('fake.csv/test.part')\n",
    "\n",
    "df.head()"
   ]
  },
  {
   "cell_type": "code",
   "execution_count": 4,
   "metadata": {},
   "outputs": [
    {
     "data": {
      "text/html": [],
      "text/plain": [
       "<IPython.core.display.HTML object>"
      ]
     },
     "metadata": {},
     "output_type": "display_data"
    },
    {
     "name": "stderr",
     "output_type": "stream",
     "text": [
      "/userhome/cs/vicw0ng/anaconda3/lib/python3.8/site-packages/numpy/core/_asarray.py:83: VisibleDeprecationWarning: Creating an ndarray from ragged nested sequences (which is a list-or-tuple of lists-or-tuples-or ndarrays with different lengths or shapes) is deprecated. If you meant to do this, you must specify 'dtype=object' when creating the ndarray\n",
      "  return array(a, dtype, copy=False, order=order)\n"
     ]
    },
    {
     "data": {
      "text/html": [
       "<table border=\"1\" class=\"dataframe\">\n",
       "  <thead>\n",
       "    <tr style=\"text-align: right;\">\n",
       "      <th></th>\n",
       "      <th>text</th>\n",
       "      <th>category</th>\n",
       "    </tr>\n",
       "  </thead>\n",
       "  <tbody>\n",
       "    <tr>\n",
       "      <th>0</th>\n",
       "      <td>xxbos http : / / beforeitsnews.com / religion / 2013 / 07 / xxunk | xxup how xxup the xxup apostles xxup deceived xxup humanity xxup about xxup god xxup and xxup jesus | | xxup how xxup the xxup apostles xxup deceived xxup humanity xxup about xxup god xxup and xxup jesus \\n\\n % of readers think this story is xxmaj fact . xxmaj add your two cents . \\n\\n xxmaj headline : xxmaj bitcoin &amp; xxmaj blockchain xxmaj searches xxmaj exceed xxmaj trump ! xxmaj blockchain xxmaj stocks xxmaj are xxmaj next ! \\n\\n xxup how xxup the xxup apostles xxup deceived xxup humanity xxup about xxup god xxup and xxup jesus \\n\\n xxmaj for the past two thousand years , xxmaj christianity has led mankind to believe that what the apostles wrote about xxmaj jesus in the xxmaj new xxmaj testament of the xxmaj bible , especially</td>\n",
       "      <td>fake</td>\n",
       "    </tr>\n",
       "    <tr>\n",
       "      <th>1</th>\n",
       "      <td>xxbos http : / / xxrep 3 w .unz.com / article / california - and - the - end - of - white - america / | xxmaj california and the xxmaj end of xxmaj white xxmaj america | xxmaj ron xxmaj unz , xxmaj sayed xxmaj hasan , xxup a. xxmaj graham , xxmaj the xxmaj rubin xxmaj report | xxup summary \\n\\n xxmaj californians of xxmaj european xxunk a minority near the end of the 1980s , and this unprecedented ethnic transformation is probably responsible for the rise of a series of ethnically - charged political issues such as immigration , affirmative action , and bilingual education , as seen in xxmaj propositions 187 , 209 , and 227 . xxmaj since xxmaj america as a whole is undergoing the same ethnic transformation delayed by a few decades , the experience of these controversial campaigns tells us much</td>\n",
       "      <td>bias</td>\n",
       "    </tr>\n",
       "    <tr>\n",
       "      <th>2</th>\n",
       "      <td>xxbos http : / / beforeitsnews.com / alternative / 2016 / 03 / as - larger - and - more - numerous - fireballs - scream - across - the - sky - and - strong - winds - blow - all - over - the - world - here - is - what - you - need - to - know - to - make - it - through - post - nibiru - and - through - events - leading - up - to - xxunk | xxmaj you xxmaj can xxmaj make xxmaj it xxmaj through post - nibiru xxmaj and xxmaj poleshift ! ! xxmaj here xxmaj is xxmaj what xxmaj you xxmaj need xxmaj to xxmaj know xxmaj as xxmaj fireballs xxmaj scream xxmaj across xxmaj the xxmaj sky xxmaj and xxmaj strong xxmaj winds xxmaj blow xxmaj all xxmaj over xxmaj the xxmaj world</td>\n",
       "      <td>fake</td>\n",
       "    </tr>\n",
       "  </tbody>\n",
       "</table>"
      ],
      "text/plain": [
       "<IPython.core.display.HTML object>"
      ]
     },
     "metadata": {},
     "output_type": "display_data"
    }
   ],
   "source": [
    "dls_clas = DataBlock(blocks=(TextBlock.from_df('content'),CategoryBlock),\n",
    "                     get_x=ColReader('text'), get_y=ColReader('type'), \n",
    "                     splitter=RandomSplitter(0.1)\n",
    "                    ).dataloaders(df, bs=32, seq_len=80)\n",
    "\n",
    "dls_clas.show_batch(max_n=3)"
   ]
  },
  {
   "cell_type": "code",
   "execution_count": 5,
   "metadata": {},
   "outputs": [],
   "source": [
    "learn.dls = dls_clas"
   ]
  },
  {
   "cell_type": "code",
   "execution_count": 6,
   "metadata": {},
   "outputs": [
    {
     "data": {
      "text/html": [],
      "text/plain": [
       "<IPython.core.display.HTML object>"
      ]
     },
     "metadata": {},
     "output_type": "display_data"
    },
    {
     "data": {
      "text/html": [
       "<table border=\"1\" class=\"dataframe\">\n",
       "  <thead>\n",
       "    <tr style=\"text-align: right;\">\n",
       "      <th></th>\n",
       "      <th>text</th>\n",
       "      <th>category</th>\n",
       "      <th>category_</th>\n",
       "    </tr>\n",
       "  </thead>\n",
       "  <tbody>\n",
       "    <tr>\n",
       "      <th>0</th>\n",
       "      <td>xxbos http : / / beforeitsnews.com / new - world - order / 2015 / 11 / xxunk | xxup nwo xxmaj mass xxmaj hypnosis xxmaj program | | xxup nwo xxmaj mass xxmaj hypnosis xxmaj program \\n\\n xxmaj headline : xxmaj bitcoin &amp; xxmaj blockchain xxmaj searches xxmaj exceed xxmaj trump ! xxmaj blockchain xxmaj stocks xxmaj are xxmaj next ! \\n\\n 1 xxmaj new xxmaj world xxmaj order xxmaj underworld xxmaj mass xxmaj hypnosis xxmaj program xxmaj introduction 1 xxmaj mass xxunk and requests to reprint an earlier news article published earlier on xxup bin concerning real estate scams involving use of xxmaj new xxmaj mexico xxup llc companies to launder illicit real estate monies earned by a world meditation company and laundered by an xxmaj american businessman who created a multimillion dollar real estate empire from his relationship with the company generated a more detailed news -</td>\n",
       "      <td>fake</td>\n",
       "      <td>junksci</td>\n",
       "    </tr>\n",
       "    <tr>\n",
       "      <th>1</th>\n",
       "      <td>xxbos https : / / xxrep 3 w .naturalnews.com / xxunk | xxmaj the xxmaj mothers xxmaj act xxmaj disease xxmaj mongering xxmaj campaign - xxmaj part xxup iv | | xxmaj the a xxmaj team \\n\\n xxmaj old xxmaj chemical xxmaj imbalance in the xxmaj brain xxmaj scam \\n\\n xxmaj sad xxmaj xxunk \\n\\n xxmaj respected xxmaj researchers support the xxmaj mothers xxmaj act \\n\\n xxmaj and xxmaj speaking of xxmaj harvard \\n\\n xxmaj disease xxmaj mongering in the xxmaj media \\n\\n xxmaj time xxmaj magazine xxmaj blasted \\n\\n xxmaj amy xxmaj liked xxmaj it \\n\\n xxmaj plan of xxmaj attack \\n\\n xxmaj internet xxmaj battle xxmaj breaks xxmaj out \\n\\n xxmaj grohol 's xxmaj internet xxmaj one - stop \\n\\n ( naturalnews ) xxmaj this is part four of an article series by xxmaj evelyn xxmaj pringle . xxmaj find previous parts here : xxmaj part xxmaj one</td>\n",
       "      <td>junksci</td>\n",
       "      <td>junksci</td>\n",
       "    </tr>\n",
       "    <tr>\n",
       "      <th>2</th>\n",
       "      <td>xxbos http : / / xxrep 3 w .vdare.com / radios / radio - derb - somalis - salvadorans - and - strategic - deportation - etc | xxmaj radio xxmaj derb : xxmaj somalis , xxmaj salvadorans , xxmaj and xxmaj strategic xxmaj deportation , xxmaj etc . | | xxunk — xxmaj somali averages are terrible . ( and we ’ve imported them . ) \\n\\n xxunk — xxmaj somalis ’ twofer privilege . ( un - identifiable , un - xxunk . ) \\n\\n xxunk — xxmaj it ai n’t over till the alien wins . ( also un - deportable . ) \\n\\n xxunk — xxup ms-13 among the kulaks . ( news from xxmaj xxunk . ) \\n\\n xxunk — xxmaj immigrants are better than us , series # xxunk . ( burn down the xxmaj ivy xxmaj league ! ) \\n\\n xxunk — xxmaj</td>\n",
       "      <td>bias</td>\n",
       "      <td>political</td>\n",
       "    </tr>\n",
       "    <tr>\n",
       "      <th>3</th>\n",
       "      <td>xxbos http : / / beforeitsnews.com / power - elite / 2016 / 03 / if - you - want - to - know - why - americans - seem - so - cold - and - heartless - lately - then - read - what - the - ruling - khazars - have - done - through - their - drug - companies - and - our - xxunk | xxmaj if xxmaj you xxmaj want xxmaj to xxmaj know xxmaj why xxmaj americans xxmaj seem xxmaj so xxmaj cold xxmaj and xxmaj heartless xxmaj lately , xxmaj then xxmaj read xxmaj what xxmaj the xxmaj ruling xxmaj khazars xxmaj have xxmaj done , xxmaj through xxmaj their xxmaj drug xxmaj companies xxmaj and xxmaj our xxmaj fda | xxmaj the xxmaj vatic xxmaj project | xxmaj headline : xxmaj bitcoin &amp; xxmaj blockchain xxmaj searches xxmaj exceed xxmaj</td>\n",
       "      <td>fake</td>\n",
       "      <td>fake</td>\n",
       "    </tr>\n",
       "    <tr>\n",
       "      <th>4</th>\n",
       "      <td>xxbos http : / / beforeitsnews.com / spirit / 2016 / 06 / xxunk | xxmaj the “ spirit of xxmaj man ” – xxmaj do xxmaj you xxmaj know what that “ spirit ” xxmaj is ? | | xxmaj the “ spirit of xxmaj man ” – xxmaj do xxmaj you xxmaj know what that “ spirit ” xxmaj is ? \\n\\n xxmaj headline : xxmaj bitcoin &amp; xxmaj blockchain xxmaj searches xxmaj exceed xxmaj trump ! xxmaj blockchain xxmaj stocks xxmaj are xxmaj next ! \\n\\n xxup the xxup spirit – “ of ” – xxup man \\n\\n xxmaj this xxmaj truth found in the xxmaj word of xxmaj god will be quickly rejected by “ nominal ” xxmaj christians — it invalidates all their doctrines . xxmaj the “ spirit – xxup of – xxmaj man ” is – not — an immortal ‘ soul ’</td>\n",
       "      <td>fake</td>\n",
       "      <td>fake</td>\n",
       "    </tr>\n",
       "    <tr>\n",
       "      <th>5</th>\n",
       "      <td>xxbos http : / / xxrep 3 w .rense.com / general96 / xxunk | xxmaj appeal xxmaj of xxmaj ban xxmaj aspartame xxmaj petition xxmaj and xxmaj imminent xxmaj health xxmaj hazard | | xxmaj to xxup fda - xxmaj dr . xxmaj joseph xxmaj thomas with copy to xxmaj dr . xxmaj david xxmaj hattan \\n\\n\\n\\n xxmaj dear xxmaj dr . xxmaj thomas : \\n\\n\\n\\n xxmaj this is the second request appealing the original request for ban aspartame that took xxup fda 14 years to answer . xxmaj let me remind you of the law . xxmaj you have 180 days to answer . xxmaj the xxmaj imminent xxmaj health xxmaj hazard petition is suppose to be answered in a week or ten days and i filed in 2007 and its never been answered . \\n\\n\\n\\n xxmaj you have found a loop - hole where you can always answer</td>\n",
       "      <td>conspiracy</td>\n",
       "      <td>conspiracy</td>\n",
       "    </tr>\n",
       "    <tr>\n",
       "      <th>6</th>\n",
       "      <td>xxbos http : / / beforeitsnews.com / christian - news / 2016 / 08 / xxunk | xxup the xxup limits xxup of xxup the xxup church by xxmaj fr xxmaj georges xxmaj florovsky | xxmaj monks xxmaj and xxmaj mermaids , a xxmaj benedictine xxmaj blog | xxup the xxup limits xxup of xxup the xxup church by xxmaj fr xxmaj georges xxmaj florovsky \\n\\n xxmaj headline : xxmaj bitcoin &amp; xxmaj blockchain xxmaj searches xxmaj exceed xxmaj trump ! xxmaj blockchain xxmaj stocks xxmaj are xxmaj next ! \\n\\n “ the xxmaj limits of the xxmaj church ” by xxmaj fr . xxmaj georges xxmaj florovsky \\n\\n xxmaj the following piece by xxmaj xxunk xxmaj georges xxup v. xxmaj florovsky was originally published in 1933 in xxmaj church xxmaj quarterly xxmaj review . xxmaj where xxmaj florovsky does not translate foreign phrases , we have supplied a translation</td>\n",
       "      <td>fake</td>\n",
       "      <td>fake</td>\n",
       "    </tr>\n",
       "    <tr>\n",
       "      <th>7</th>\n",
       "      <td>xxbos http : / / beforeitsnews.com / survival / 2014 / 04 / xxunk | xxmaj was xxmaj franklin xxmaj roosevelt a xxmaj communist ? | b xxmaj mans xxmaj revolt | xxmaj was xxmaj franklin xxmaj roosevelt a xxmaj communist ? \\n\\n xxmaj headline : xxmaj bitcoin &amp; xxmaj blockchain xxmaj searches xxmaj exceed xxmaj trump ! xxmaj blockchain xxmaj stocks xxmaj are xxmaj next ! \\n\\n xxmaj was xxmaj franklin xxmaj roosevelt a xxmaj communist ? by xxup dc xxmaj dave \\n\\n xxmaj john xxmaj beaty in his 1951 book , xxmaj the xxmaj iron xxmaj curtain xxmaj over xxmaj america , asks the following rhetorical question ( p. 187 ) : \\n\\n xxmaj in solemn truth , do not seven persons share most of the responsibility for establishing the xxmaj communist grip on the world ? xxmaj are not the seven : ( 1 ) xxmaj marx</td>\n",
       "      <td>fake</td>\n",
       "      <td>fake</td>\n",
       "    </tr>\n",
       "    <tr>\n",
       "      <th>8</th>\n",
       "      <td>xxbos http : / / beforeitsnews.com / financial - markets / 2017 / 01 / new - year - naps - top - stocks - xxunk - how - to - play - the - xxunk | xxmaj new xxmaj year xxup naps – xxmaj top xxmaj stocks for 2017 and how to play the xxmaj joker | | xxmaj new xxmaj year xxup naps – xxmaj top xxmaj stocks for 2017 and how to play the xxmaj joker \\n\\n xxmaj headline : xxmaj bitcoin &amp; xxmaj blockchain xxmaj searches xxmaj exceed xxmaj trump ! xxmaj blockchain xxmaj stocks xxmaj are xxmaj next ! \\n\\n 2016 has been a remarkable year in the markets with xxmaj brexit and xxmaj trump creating so much market volatility . xxmaj in this climate , it ’s been proven to be a year for the stock xxunk . xxmaj the wonderful xxmaj paul xxmaj</td>\n",
       "      <td>fake</td>\n",
       "      <td>fake</td>\n",
       "    </tr>\n",
       "  </tbody>\n",
       "</table>"
      ],
      "text/plain": [
       "<IPython.core.display.HTML object>"
      ]
     },
     "metadata": {},
     "output_type": "display_data"
    }
   ],
   "source": [
    "learn.show_results()"
   ]
  },
  {
   "cell_type": "code",
   "execution_count": 7,
   "metadata": {},
   "outputs": [
    {
     "data": {
      "text/html": [],
      "text/plain": [
       "<IPython.core.display.HTML object>"
      ]
     },
     "metadata": {},
     "output_type": "display_data"
    },
    {
     "data": {
      "text/plain": [
       "0.9370078444480896"
      ]
     },
     "execution_count": 7,
     "metadata": {},
     "output_type": "execute_result"
    }
   ],
   "source": [
    "learn.validate()[1]"
   ]
  }
 ],
 "metadata": {
  "kernelspec": {
   "display_name": "Python 3",
   "language": "python",
   "name": "python3"
  },
  "language_info": {
   "codemirror_mode": {
    "name": "ipython",
    "version": 3
   },
   "file_extension": ".py",
   "mimetype": "text/x-python",
   "name": "python",
   "nbconvert_exporter": "python",
   "pygments_lexer": "ipython3",
   "version": "3.8.5"
  }
 },
 "nbformat": 4,
 "nbformat_minor": 4
}
